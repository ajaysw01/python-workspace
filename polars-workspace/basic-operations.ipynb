{
 "cells": [
  {
   "cell_type": "markdown",
   "metadata": {},
   "source": [
    "### Basic operations\n",
    "arithmetic, comparisons, general purpose"
   ]
  },
  {
   "cell_type": "code",
   "execution_count": null,
   "metadata": {},
   "outputs": [],
   "source": [
    "import polars as pl \n",
    "import numpy as np \n",
    "\n",
    "np.random.seed(42)\n",
    "df = pl.DataFrame(\n",
    "    {\n",
    "        \"nrs\": [1, 2, 3, None, 5],\n",
    "        \"names\": [\"foo\", \"ham\", \"spam\", \"egg\", \"spam\"],\n",
    "        \"random\": np.random.rand(5),\n",
    "        \"groups\": [\"A\", \"A\", \"B\", \"A\", \"B\"],\n",
    "    }\n",
    ")\n",
    "print(df)"
   ]
  },
  {
   "cell_type": "markdown",
   "metadata": {},
   "source": [
    "### Basic arithmetic\n"
   ]
  },
  {
   "cell_type": "code",
   "execution_count": 3,
   "metadata": {},
   "outputs": [
    {
     "name": "stdout",
     "output_type": "stream",
     "text": [
      "shape: (5, 6)\n",
      "┌───────┬───────┬────────────┬────────────┬──────────┬─────────┐\n",
      "│ nrs+5 ┆ nrs-5 ┆ nrs*random ┆ nrs/random ┆ nrs ** 2 ┆ nrs % 3 │\n",
      "│ ---   ┆ ---   ┆ ---        ┆ ---        ┆ ---      ┆ ---     │\n",
      "│ i64   ┆ i64   ┆ f64        ┆ f64        ┆ i64      ┆ i64     │\n",
      "╞═══════╪═══════╪════════════╪════════════╪══════════╪═════════╡\n",
      "│ 6     ┆ -4    ┆ 0.37454    ┆ 2.669941   ┆ 1        ┆ 1       │\n",
      "│ 7     ┆ -3    ┆ 1.901429   ┆ 2.103681   ┆ 4        ┆ 2       │\n",
      "│ 8     ┆ -2    ┆ 2.195982   ┆ 4.098395   ┆ 9        ┆ 0       │\n",
      "│ null  ┆ null  ┆ null       ┆ null       ┆ null     ┆ null    │\n",
      "│ 10    ┆ 0     ┆ 0.780093   ┆ 32.047453  ┆ 25       ┆ 2       │\n",
      "└───────┴───────┴────────────┴────────────┴──────────┴─────────┘\n"
     ]
    }
   ],
   "source": [
    "result = df.select(\n",
    "    (pl.col(\"nrs\")+5).alias(\"nrs+5\"),\n",
    "    (pl.col(\"nrs\")-5).alias(\"nrs-5\"),\n",
    "    (pl.col(\"nrs\")*pl.col(\"random\")).alias(\"nrs*random\"),\n",
    "    (pl.col(\"nrs\")/pl.col(\"random\")).alias(\"nrs/random\"),\n",
    "    (pl.col(\"nrs\") ** 2).alias(\"nrs ** 2\"),\n",
    "    (pl.col(\"nrs\") % 3).alias(\"nrs % 3\"),\n",
    ")\n",
    "print(result)"
   ]
  },
  {
   "cell_type": "code",
   "execution_count": 5,
   "metadata": {},
   "outputs": [
    {
     "name": "stdout",
     "output_type": "stream",
     "text": [
      "shape: (5, 6)\n",
      "┌─────────┬─────────┬──────────────┬──────────────┬──────────┬─────────┐\n",
      "│ nrs + 5 ┆ nrs - 5 ┆ nrs * random ┆ nrs / random ┆ nrs ** 2 ┆ nrs % 3 │\n",
      "│ ---     ┆ ---     ┆ ---          ┆ ---          ┆ ---      ┆ ---     │\n",
      "│ i64     ┆ i64     ┆ f64          ┆ f64          ┆ i64      ┆ i64     │\n",
      "╞═════════╪═════════╪══════════════╪══════════════╪══════════╪═════════╡\n",
      "│ 6       ┆ -4      ┆ 0.37454      ┆ 2.669941     ┆ 1        ┆ 1       │\n",
      "│ 7       ┆ -3      ┆ 1.901429     ┆ 2.103681     ┆ 4        ┆ 2       │\n",
      "│ 8       ┆ -2      ┆ 2.195982     ┆ 4.098395     ┆ 9        ┆ 0       │\n",
      "│ null    ┆ null    ┆ null         ┆ null         ┆ null     ┆ null    │\n",
      "│ 10      ┆ 0       ┆ 0.780093     ┆ 32.047453    ┆ 25       ┆ 2       │\n",
      "└─────────┴─────────┴──────────────┴──────────────┴──────────┴─────────┘\n"
     ]
    }
   ],
   "source": [
    "# We canuse pure python to achieve above operation\n",
    "result_named_operators = df.select(\n",
    "    (pl.col(\"nrs\").add(5)).alias(\"nrs + 5\"),\n",
    "    (pl.col(\"nrs\").sub(5)).alias(\"nrs - 5\"),\n",
    "    (pl.col(\"nrs\").mul(pl.col(\"random\"))).alias(\"nrs * random\"),\n",
    "    (pl.col(\"nrs\").truediv(pl.col(\"random\"))).alias(\"nrs / random\"),\n",
    "    (pl.col(\"nrs\").pow(2)).alias(\"nrs ** 2\"),\n",
    "    (pl.col(\"nrs\").mod(3)).alias(\"nrs % 3\"),\n",
    ")\n",
    "print(result_named_operators)"
   ]
  },
  {
   "cell_type": "markdown",
   "metadata": {},
   "source": [
    "### Comparisons\n",
    "we can do both named functions and overloaded operators as well"
   ]
  },
  {
   "cell_type": "code",
   "execution_count": 6,
   "metadata": {},
   "outputs": [
    {
     "name": "stdout",
     "output_type": "stream",
     "text": [
      "shape: (5, 6)\n",
      "┌─────────┬──────────┬─────────────┬──────────────┬──────────┬──────────┐\n",
      "│ nrs > 1 ┆ nrs >= 3 ┆ random < .2 ┆ random <= .5 ┆ nrs != 1 ┆ nrs == 1 │\n",
      "│ ---     ┆ ---      ┆ ---         ┆ ---          ┆ ---      ┆ ---      │\n",
      "│ bool    ┆ bool     ┆ bool        ┆ bool         ┆ bool     ┆ bool     │\n",
      "╞═════════╪══════════╪═════════════╪══════════════╪══════════╪══════════╡\n",
      "│ false   ┆ false    ┆ false       ┆ true         ┆ false    ┆ true     │\n",
      "│ true    ┆ false    ┆ false       ┆ false        ┆ true     ┆ false    │\n",
      "│ true    ┆ true     ┆ false       ┆ false        ┆ true     ┆ false    │\n",
      "│ null    ┆ null     ┆ false       ┆ false        ┆ null     ┆ null     │\n",
      "│ true    ┆ true     ┆ true        ┆ true         ┆ true     ┆ false    │\n",
      "└─────────┴──────────┴─────────────┴──────────────┴──────────┴──────────┘\n"
     ]
    }
   ],
   "source": [
    "result = df.select(\n",
    "    (pl.col(\"nrs\") > 1).alias(\"nrs > 1\"),  # .gt\n",
    "    (pl.col(\"nrs\") >= 3).alias(\"nrs >= 3\"),  # ge\n",
    "    (pl.col(\"random\") < 0.2).alias(\"random < .2\"),  # .lt\n",
    "    (pl.col(\"random\") <= 0.5).alias(\"random <= .5\"),  # .le\n",
    "    (pl.col(\"nrs\") != 1).alias(\"nrs != 1\"),  # .ne\n",
    "    (pl.col(\"nrs\") == 1).alias(\"nrs == 1\"),  # .eq\n",
    ")\n",
    "print(result)"
   ]
  }
 ],
 "metadata": {
  "kernelspec": {
   "display_name": "Python 3",
   "language": "python",
   "name": "python3"
  },
  "language_info": {
   "codemirror_mode": {
    "name": "ipython",
    "version": 3
   },
   "file_extension": ".py",
   "mimetype": "text/x-python",
   "name": "python",
   "nbconvert_exporter": "python",
   "pygments_lexer": "ipython3",
   "version": "3.13.1"
  }
 },
 "nbformat": 4,
 "nbformat_minor": 2
}

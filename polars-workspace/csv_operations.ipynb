{
 "cells": [
  {
   "cell_type": "code",
   "execution_count": null,
   "metadata": {},
   "outputs": [],
   "source": [
    "import polars as pl \n",
    "import glob\n",
    "\n",
    "\n",
    "df = pl.DataFrame({\n",
    "    \"names\" :[\"ajay\", \"vijay\", \"jay\", \"digvijay\",\"ranvijay\"],\n",
    "    \"age\" : [25,35,43,32,48],\n",
    "    \"salary\" :[3000,1000,2345,6000,8000],\n",
    "    \"weight\" : [55,23,43,24,70],\n",
    "    \"height\": [1.8, 1.75, 1.65,2.2,1.2],\n",
    "})\n",
    "# print(df)\n",
    "\n",
    "# writing to csv file\n",
    "df.write_csv(\"exports/file.csv\")\n",
    "\n",
    "# reading form a csv\n",
    "print(pl.read_csv(\"exports/file.csv\"))"
   ]
  },
  {
   "cell_type": "code",
   "execution_count": null,
   "metadata": {},
   "outputs": [],
   "source": [
    "# working with json\n",
    "df.write_json(\"exports/file.json\")\n",
    "\n",
    "# reading from json\n",
    "pl.read_json(\"exports/file.json\")\n",
    "\n",
    "# ndjson : newline delimited json\n",
    "# pl.read_ndjson(\"file.json\")  #it will give error"
   ]
  },
  {
   "cell_type": "code",
   "execution_count": null,
   "metadata": {},
   "outputs": [],
   "source": [
    "# wrting to xlsx\n",
    "df.write_excel(\"exports/file.xlsx\",worksheet=\"Person Details\")\n",
    "\n",
    "# readinf from excell\n",
    "pl.read_excel(\"exports/file.xlsx\",sheet_name=\"Person Details\")"
   ]
  },
  {
   "cell_type": "code",
   "execution_count": null,
   "metadata": {},
   "outputs": [],
   "source": [
    "# parquet files\n",
    "df.write_parquet(\"exports/file.parquet\")\n",
    "# read\n",
    "pl.read_parquet(\"exports/file.parquet\")"
   ]
  },
  {
   "cell_type": "markdown",
   "metadata": {},
   "source": [
    "### Dealing with multiple files"
   ]
  },
  {
   "cell_type": "code",
   "execution_count": 23,
   "metadata": {},
   "outputs": [],
   "source": [
    "df = pl.DataFrame({\"foo\": [1, 2, 3], \"bar\": [None, \"ham\", \"spam\"]})\n",
    "# writing into many files\n",
    "for i in range(5) : \n",
    "    df.write_csv(f\"exports/multiple/my_many_files_{i}.csv\")\n",
    "\n",
    "# to read multiple filesinto single df we use globbing patterns\n",
    "# df = pl.read_csv(f\"exports/multiple/my_many_files_*.csv\")\n",
    "\n",
    "# df = pl.scan_csv(f\"exports/multiple/my_many_files_*.csv\")\n",
    "# print(df)"
   ]
  },
  {
   "cell_type": "markdown",
   "metadata": {},
   "source": [
    "### Reading and processing in parallel\n"
   ]
  },
  {
   "cell_type": "code",
   "execution_count": 26,
   "metadata": {},
   "outputs": [
    {
     "name": "stdout",
     "output_type": "stream",
     "text": [
      "[shape: (3, 3)\n",
      "┌──────┬─────┬─────┐\n",
      "│ bar  ┆ len ┆ foo │\n",
      "│ ---  ┆ --- ┆ --- │\n",
      "│ str  ┆ u32 ┆ i64 │\n",
      "╞══════╪═════╪═════╡\n",
      "│ null ┆ 1   ┆ 1   │\n",
      "│ spam ┆ 1   ┆ 3   │\n",
      "│ ham  ┆ 1   ┆ 2   │\n",
      "└──────┴─────┴─────┘, shape: (3, 3)\n",
      "┌──────┬─────┬─────┐\n",
      "│ bar  ┆ len ┆ foo │\n",
      "│ ---  ┆ --- ┆ --- │\n",
      "│ str  ┆ u32 ┆ i64 │\n",
      "╞══════╪═════╪═════╡\n",
      "│ ham  ┆ 1   ┆ 2   │\n",
      "│ null ┆ 1   ┆ 1   │\n",
      "│ spam ┆ 1   ┆ 3   │\n",
      "└──────┴─────┴─────┘, shape: (3, 3)\n",
      "┌──────┬─────┬─────┐\n",
      "│ bar  ┆ len ┆ foo │\n",
      "│ ---  ┆ --- ┆ --- │\n",
      "│ str  ┆ u32 ┆ i64 │\n",
      "╞══════╪═════╪═════╡\n",
      "│ null ┆ 1   ┆ 1   │\n",
      "│ ham  ┆ 1   ┆ 2   │\n",
      "│ spam ┆ 1   ┆ 3   │\n",
      "└──────┴─────┴─────┘, shape: (3, 3)\n",
      "┌──────┬─────┬─────┐\n",
      "│ bar  ┆ len ┆ foo │\n",
      "│ ---  ┆ --- ┆ --- │\n",
      "│ str  ┆ u32 ┆ i64 │\n",
      "╞══════╪═════╪═════╡\n",
      "│ ham  ┆ 1   ┆ 2   │\n",
      "│ spam ┆ 1   ┆ 3   │\n",
      "│ null ┆ 1   ┆ 1   │\n",
      "└──────┴─────┴─────┘, shape: (3, 3)\n",
      "┌──────┬─────┬─────┐\n",
      "│ bar  ┆ len ┆ foo │\n",
      "│ ---  ┆ --- ┆ --- │\n",
      "│ str  ┆ u32 ┆ i64 │\n",
      "╞══════╪═════╪═════╡\n",
      "│ spam ┆ 1   ┆ 3   │\n",
      "│ null ┆ 1   ┆ 1   │\n",
      "│ ham  ┆ 1   ┆ 2   │\n",
      "└──────┴─────┴─────┘]\n"
     ]
    }
   ],
   "source": [
    "queries = []\n",
    "for file in glob.glob(\"exports/multiple/my_many_files_*.csv\"):\n",
    "    q = pl.scan_csv(file).group_by(\"bar\").agg(pl.len(),pl.sum(\"foo\"))\n",
    "    queries.append(q)\n",
    "\n",
    "dataframes = pl.collect_all(queries)\n",
    "print(dataframes)"
   ]
  }
 ],
 "metadata": {
  "kernelspec": {
   "display_name": "Python 3",
   "language": "python",
   "name": "python3"
  },
  "language_info": {
   "codemirror_mode": {
    "name": "ipython",
    "version": 3
   },
   "file_extension": ".py",
   "mimetype": "text/x-python",
   "name": "python",
   "nbconvert_exporter": "python",
   "pygments_lexer": "ipython3",
   "version": "3.13.1"
  }
 },
 "nbformat": 4,
 "nbformat_minor": 2
}

{
 "cells": [
  {
   "cell_type": "markdown",
   "metadata": {},
   "source": [
    "### Casting : \n",
    "we use cast(strict = True)"
   ]
  },
  {
   "cell_type": "code",
   "execution_count": 9,
   "metadata": {},
   "outputs": [
    {
     "name": "stdout",
     "output_type": "stream",
     "text": [
      "shape: (3, 3)\n",
      "┌──────────┬──────────────┬────────┐\n",
      "│ integers ┆ big_integers ┆ floats │\n",
      "│ ---      ┆ ---          ┆ ---    │\n",
      "│ i64      ┆ i64          ┆ f64    │\n",
      "╞══════════╪══════════════╪════════╡\n",
      "│ 1        ┆ 10000002     ┆ 4.0    │\n",
      "│ 2        ┆ 2            ┆ 5.8    │\n",
      "│ 3        ┆ 30000003     ┆ -6.3   │\n",
      "└──────────┴──────────────┴────────┘\n"
     ]
    }
   ],
   "source": [
    "import polars as pl\n",
    "df = pl.DataFrame(\n",
    "    {\n",
    "        \"integers\" : [1,2,3],\n",
    "        \"big_integers\": [10000002, 2, 30000003],\n",
    "        \"floats\": [4.0, 5.8, -6.3],\n",
    "    }\n",
    ")\n",
    "print(df)"
   ]
  },
  {
   "cell_type": "code",
   "execution_count": 10,
   "metadata": {},
   "outputs": [
    {
     "name": "stdout",
     "output_type": "stream",
     "text": [
      "shape: (3, 2)\n",
      "┌────────────────────┬───────────────────┐\n",
      "│ Integers As Floats ┆ Floats as Intgers │\n",
      "│ ---                ┆ ---               │\n",
      "│ f32                ┆ i128              │\n",
      "╞════════════════════╪═══════════════════╡\n",
      "│ 1.0                ┆ 4                 │\n",
      "│ 2.0                ┆ 5                 │\n",
      "│ 3.0                ┆ -6                │\n",
      "└────────────────────┴───────────────────┘\n"
     ]
    }
   ],
   "source": [
    "result =df.select(\n",
    "    pl.col(\"integers\").cast(pl.Float32).alias(\"Integers As Floats\"),\n",
    "    pl.col(\"floats\").cast(pl.Int128).alias(\"Floats as Intgers\")   #Floating points will be truncated\n",
    ")\n",
    "print(result)"
   ]
  },
  {
   "cell_type": "markdown",
   "metadata": {},
   "source": [
    "### Downcasting numerical data types\n",
    "ex : Int64 ---> Int16"
   ]
  },
  {
   "cell_type": "code",
   "execution_count": 11,
   "metadata": {},
   "outputs": [
    {
     "name": "stdout",
     "output_type": "stream",
     "text": [
      "Before downcasting: 72 bytes\n",
      "After downcasting: 42 bytes\n",
      "conversion from `i64` to `i8` failed in column 'big_integers' for 2 out of 3 values: [10000002, 30000003]\n"
     ]
    }
   ],
   "source": [
    "from polars.exceptions import InvalidOperationError\n",
    "\n",
    "print(f\"Before downcasting: {df.estimated_size()} bytes\")\n",
    "result = df.with_columns(\n",
    "    pl.col(\"integers\").cast(pl.Int16),\n",
    "    pl.col(\"floats\").cast(pl.Float32),\n",
    ")\n",
    "print(f\"After downcasting: {result.estimated_size()} bytes\")\n",
    "\n",
    "# If the size is overflowing will get error\n",
    "try:\n",
    "    result = df.select(pl.col(\"big_integers\").cast(pl.Int8))\n",
    "    print(result)\n",
    "except InvalidOperationError as err:\n",
    "    print(err)"
   ]
  },
  {
   "cell_type": "code",
   "execution_count": 12,
   "metadata": {},
   "outputs": [
    {
     "name": "stdout",
     "output_type": "stream",
     "text": [
      "shape: (3, 1)\n",
      "┌──────────────┐\n",
      "│ big_integers │\n",
      "│ ---          │\n",
      "│ i8           │\n",
      "╞══════════════╡\n",
      "│ null         │\n",
      "│ 2            │\n",
      "│ null         │\n",
      "└──────────────┘\n"
     ]
    }
   ],
   "source": [
    "# for that we set strict to flase : overflowing and underflowirng will become to null\n",
    "result = df.select(\n",
    "    pl.col(\"big_integers\").cast(pl.Int8,strict=False)\n",
    ")\n",
    "print(result)"
   ]
  },
  {
   "cell_type": "markdown",
   "metadata": {},
   "source": [
    "### Strings to numeric types\n",
    "\n",
    "if string contains non numeric polars will throw conversion error"
   ]
  },
  {
   "cell_type": "code",
   "execution_count": 21,
   "metadata": {},
   "outputs": [
    {
     "name": "stdout",
     "output_type": "stream",
     "text": [
      "shape: (3, 2)\n",
      "┌─────────┬─────────┐\n",
      "│ rollnos ┆ percent │\n",
      "│ ---     ┆ ---     │\n",
      "│ i128    ┆ str     │\n",
      "╞═════════╪═════════╡\n",
      "│ 12      ┆ 89.32   │\n",
      "│ 23      ┆ 12.34   │\n",
      "│ 90      ┆ 67.76   │\n",
      "└─────────┴─────────┘\n"
     ]
    }
   ],
   "source": [
    "import polars as pl\n",
    "df = pl.DataFrame(\n",
    "    {\n",
    "        \"rollnos\" : [\"12\",\"23\",\"90\"],\n",
    "        \"percent\" : [89.32,12.34,67.76],\n",
    "    }\n",
    ")\n",
    "strings = df.select(\n",
    "    pl.col(\"rollnos\").cast(pl.Int128),\n",
    "    pl.col(\"percent\").cast(pl.String)\n",
    ")\n",
    "\n",
    "print(strings)"
   ]
  },
  {
   "cell_type": "markdown",
   "metadata": {},
   "source": [
    "### Parsing / formatting temporal data types\n",
    "values of the data type Date are stored as the number of days since the epoch. For the data type Datetime the time unit is the microsecond (us) and for Time the time unit is the nanosecond (ns).\n",
    "\n",
    "dt._to_string() and str.to-datetime() funcitons are used"
   ]
  },
  {
   "cell_type": "code",
   "execution_count": 31,
   "metadata": {},
   "outputs": [
    {
     "name": "stdout",
     "output_type": "stream",
     "text": [
      "shape: (2, 3)\n",
      "┌──────────────────┬────────────────┬───────────────────┐\n",
      "│ days_since_epoch ┆ us_since_epoch ┆ ns_since_midnight │\n",
      "│ ---              ┆ ---            ┆ ---               │\n",
      "│ i64              ┆ i64            ┆ i64               │\n",
      "╞══════════════════╪════════════════╪═══════════════════╡\n",
      "│ 0                ┆ 0              ┆ 0                 │\n",
      "│ 9                ┆ 60000000       ┆ 1000000000        │\n",
      "└──────────────────┴────────────────┴───────────────────┘\n"
     ]
    }
   ],
   "source": [
    "from datetime import date, datetime, time\n",
    "\n",
    "df = pl.DataFrame(\n",
    "    {\n",
    "        \"date\": [\n",
    "            date(1970, 1, 1),  # epoch\n",
    "            date(1970, 1, 10),  # 9 days later\n",
    "        ],\n",
    "        \"datetime\": [\n",
    "            datetime(1970, 1, 1, 0, 0, 0),  # epoch\n",
    "            datetime(1970, 1, 1, 0, 1, 0),  # 1 minute later\n",
    "        ],\n",
    "        \"time\": [\n",
    "            time(0, 0, 0),  # reference time\n",
    "            time(0, 0, 1),  # 1 second later\n",
    "        ],\n",
    "    }\n",
    ")\n",
    "\n",
    "result = df.select(\n",
    "    pl.col(\"date\").cast(pl.Int64).alias(\"days_since_epoch\"),\n",
    "    pl.col(\"datetime\").cast(pl.Int64).alias(\"us_since_epoch\"),\n",
    "    pl.col(\"time\").cast(pl.Int64).alias(\"ns_since_midnight\"),\n",
    ")\n",
    "print(result)"
   ]
  },
  {
   "cell_type": "code",
   "execution_count": 37,
   "metadata": {},
   "outputs": [
    {
     "name": "stdout",
     "output_type": "stream",
     "text": [
      "shape: (2, 2)\n",
      "┌────────────┬─────────────────────┐\n",
      "│ date       ┆ string              │\n",
      "│ ---        ┆ ---                 │\n",
      "│ str        ┆ datetime[μs]        │\n",
      "╞════════════╪═════════════════════╡\n",
      "│ 2022-01-01 ┆ 2022-01-01 00:00:00 │\n",
      "│ 2022-01-02 ┆ 2022-01-02 00:00:00 │\n",
      "└────────────┴─────────────────────┘\n"
     ]
    }
   ],
   "source": [
    "df = pl.DataFrame(\n",
    "    {\n",
    "        \"date\": [date(2022, 1, 1), date(2022, 1, 2)],\n",
    "        \"string\": [\"2022-01-01\", \"2022-01-02\"],\n",
    "    }\n",
    ")\n",
    "\n",
    "result = df.select(\n",
    "    pl.col(\"date\").dt.to_string(\"%Y-%m-%d\"),\n",
    "    pl.col(\"string\").str.to_datetime(\"%Y-%m-%d\"),\n",
    ")\n",
    "print(result)"
   ]
  },
  {
   "cell_type": "code",
   "execution_count": null,
   "metadata": {},
   "outputs": [],
   "source": []
  }
 ],
 "metadata": {
  "kernelspec": {
   "display_name": "Python 3",
   "language": "python",
   "name": "python3"
  },
  "language_info": {
   "codemirror_mode": {
    "name": "ipython",
    "version": 3
   },
   "file_extension": ".py",
   "mimetype": "text/x-python",
   "name": "python",
   "nbconvert_exporter": "python",
   "pygments_lexer": "ipython3",
   "version": "3.13.1"
  }
 },
 "nbformat": 4,
 "nbformat_minor": 2
}

{
 "cells": [
  {
   "cell_type": "markdown",
   "metadata": {},
   "source": [
    "### String operations\n",
    "we use the str namespace which gives us access to 40+ functions"
   ]
  },
  {
   "cell_type": "code",
   "execution_count": 3,
   "metadata": {},
   "outputs": [
    {
     "name": "stdout",
     "output_type": "stream",
     "text": [
      "shape: (4, 2)\n",
      "┌────────────┬──────────────┐\n",
      "│ byte_count ┆ letter_count │\n",
      "│ ---        ┆ ---          │\n",
      "│ u32        ┆ u32          │\n",
      "╞════════════╪══════════════╡\n",
      "│ 5          ┆ 5            │\n",
      "│ 4          ┆ 4            │\n",
      "│ 4          ┆ 4            │\n",
      "│ 7          ┆ 7            │\n",
      "└────────────┴──────────────┘\n",
      "shape: (4, 4)\n",
      "┌────────────┬─────────┬────────────┬──────────────┐\n",
      "│ language   ┆ fruit   ┆ byte_count ┆ letter_count │\n",
      "│ ---        ┆ ---     ┆ ---        ┆ ---          │\n",
      "│ str        ┆ str     ┆ u32        ┆ u32          │\n",
      "╞════════════╪═════════╪════════════╪══════════════╡\n",
      "│ Englist    ┆ peer0   ┆ 5          ┆ 5            │\n",
      "│ Dutch      ┆ peer    ┆ 4          ┆ 4            │\n",
      "│ Postuguese ┆ pera    ┆ 4          ┆ 4            │\n",
      "│ Finish     ┆ paaryna ┆ 7          ┆ 7            │\n",
      "└────────────┴─────────┴────────────┴──────────────┘\n"
     ]
    }
   ],
   "source": [
    "import polars as pl \n",
    "\n",
    "df = pl.DataFrame({\n",
    "    \"language\":[\"Englist\",\"Dutch\",\"Postuguese\",\"Finish\"],\n",
    "    \"fruit\":[\"peer0\",\"peer\",\"pera\",\"paaryna\"],\n",
    "})\n",
    "\n",
    "res = df.select(\n",
    "    pl.col(\"fruit\").str.len_bytes().alias(\"byte_count\"),\n",
    "    pl.col(\"fruit\").str.len_chars().alias(\"letter_count\"),\n",
    ")\n",
    "print(res)\n",
    "\n",
    "result = df.with_columns(\n",
    "    pl.col(\"fruit\").str.len_bytes().alias(\"byte_count\"),\n",
    "    pl.col(\"fruit\").str.len_chars().alias(\"letter_count\"),\n",
    ")\n",
    "print(result)"
   ]
  },
  {
   "cell_type": "code",
   "execution_count": null,
   "metadata": {},
   "outputs": [],
   "source": []
  }
 ],
 "metadata": {
  "kernelspec": {
   "display_name": "Python 3",
   "language": "python",
   "name": "python3"
  },
  "language_info": {
   "codemirror_mode": {
    "name": "ipython",
    "version": 3
   },
   "file_extension": ".py",
   "mimetype": "text/x-python",
   "name": "python",
   "nbconvert_exporter": "python",
   "pygments_lexer": "ipython3",
   "version": "3.13.1"
  }
 },
 "nbformat": 4,
 "nbformat_minor": 2
}

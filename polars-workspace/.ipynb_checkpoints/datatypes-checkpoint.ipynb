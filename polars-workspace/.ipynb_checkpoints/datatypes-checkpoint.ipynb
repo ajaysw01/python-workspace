{
 "cells": [
  {
   "cell_type": "code",
   "execution_count": 6,
   "id": "82a6eab6-7da7-42bb-b207-924a05dcfb9c",
   "metadata": {},
   "outputs": [
    {
     "name": "stdout",
     "output_type": "stream",
     "text": [
      "shape: (5,)\n",
      "Series: 'ints' [i64]\n",
      "[\n",
      "\t1\n",
      "\t2\n",
      "\t3\n",
      "\t45\n",
      "\t5\n",
      "]\n",
      "<class 'polars.series.series.Series'>\n"
     ]
    }
   ],
   "source": [
    "# Series\n",
    "import polars as pl \n",
    "s = pl.Series(\"ints\", [1,2,3,45,5])\n",
    "print(s)\n",
    "print(type(s))"
   ]
  },
  {
   "cell_type": "code",
   "execution_count": 15,
   "id": "660656d6-337d-422d-80b5-290dc287fdd2",
   "metadata": {
    "scrolled": true
   },
   "outputs": [
    {
     "name": "stdout",
     "output_type": "stream",
     "text": [
      "shape: (4, 4)\n",
      "┌────────────────┬────────────┬────────┬────────┐\n",
      "│ name           ┆ birthdate  ┆ weight ┆ height │\n",
      "│ ---            ┆ ---        ┆ ---    ┆ ---    │\n",
      "│ str            ┆ date       ┆ f64    ┆ f64    │\n",
      "╞════════════════╪════════════╪════════╪════════╡\n",
      "│ Alice Archer   ┆ 1997-01-10 ┆ 57.9   ┆ 1.56   │\n",
      "│ Ben Brown      ┆ 1985-02-15 ┆ 72.5   ┆ 1.77   │\n",
      "│ Chloe Cooper   ┆ 1983-03-22 ┆ 53.6   ┆ 1.65   │\n",
      "│ Daniel Donovan ┆ 1981-04-30 ┆ 83.1   ┆ 1.75   │\n",
      "└────────────────┴────────────┴────────┴────────┘\n",
      "shape: (2, 4)\n",
      "┌──────────────┬────────────┬────────┬────────┐\n",
      "│ name         ┆ birthdate  ┆ weight ┆ height │\n",
      "│ ---          ┆ ---        ┆ ---    ┆ ---    │\n",
      "│ str          ┆ date       ┆ f64    ┆ f64    │\n",
      "╞══════════════╪════════════╪════════╪════════╡\n",
      "│ Alice Archer ┆ 1997-01-10 ┆ 57.9   ┆ 1.56   │\n",
      "│ Ben Brown    ┆ 1985-02-15 ┆ 72.5   ┆ 1.77   │\n",
      "└──────────────┴────────────┴────────┴────────┘\n",
      "Rows: 4\n",
      "Columns: 4\n",
      "$ name       <str> 'Alice Archer', 'Ben Brown', 'Chloe Cooper', 'Daniel Donovan'\n",
      "$ birthdate <date> 1997-01-10, 1985-02-15, 1983-03-22, 1981-04-30\n",
      "$ weight     <f64> 57.9, 72.5, 53.6, 83.1\n",
      "$ height     <f64> 1.56, 1.77, 1.65, 1.75\n",
      "\n",
      "shape: (1, 4)\n",
      "┌────────────────┬────────────┬────────┬────────┐\n",
      "│ name           ┆ birthdate  ┆ weight ┆ height │\n",
      "│ ---            ┆ ---        ┆ ---    ┆ ---    │\n",
      "│ str            ┆ date       ┆ f64    ┆ f64    │\n",
      "╞════════════════╪════════════╪════════╪════════╡\n",
      "│ Daniel Donovan ┆ 1981-04-30 ┆ 83.1   ┆ 1.75   │\n",
      "└────────────────┴────────────┴────────┴────────┘\n"
     ]
    }
   ],
   "source": [
    "# dataframe\n",
    "import polars as pl\n",
    "import datetime as dt\n",
    "\n",
    "df = pl.DataFrame(\n",
    "    {\n",
    "        \"name\": [\"Alice Archer\", \"Ben Brown\", \"Chloe Cooper\", \"Daniel Donovan\"],\n",
    "        \"birthdate\": [\n",
    "            dt.date(1997, 1, 10),\n",
    "            dt.date(1985, 2, 15),\n",
    "            dt.date(1983, 3, 22),\n",
    "            dt.date(1981, 4, 30),\n",
    "        ],\n",
    "        \"weight\": [57.9, 72.5, 53.6, 83.1],  # (kg)\n",
    "        \"height\": [1.56, 1.77, 1.65, 1.75],  # (m)\n",
    "    }\n",
    ")\n",
    "\n",
    "print(df)\n",
    "# Head : shows the first rows of df(first 5)\n",
    "print(df.head(2))\n",
    "# glimpse : also shows first few rows, but formats differently. Each line = single column\n",
    "print(df.glimpse(return_as_string = True))\n",
    "# tail : last 5 rows\n",
    "print(df.tail(1))"
   ]
  },
  {
   "cell_type": "code",
   "execution_count": 16,
   "id": "d370b1fb-cfb6-45dd-b958-aa588f17ffa8",
   "metadata": {},
   "outputs": [
    {
     "name": "stdout",
     "output_type": "stream",
     "text": [
      "shape: (2, 4)\n",
      "┌────────────────┬────────────┬────────┬────────┐\n",
      "│ name           ┆ birthdate  ┆ weight ┆ height │\n",
      "│ ---            ┆ ---        ┆ ---    ┆ ---    │\n",
      "│ str            ┆ date       ┆ f64    ┆ f64    │\n",
      "╞════════════════╪════════════╪════════╪════════╡\n",
      "│ Daniel Donovan ┆ 1981-04-30 ┆ 83.1   ┆ 1.75   │\n",
      "│ Chloe Cooper   ┆ 1983-03-22 ┆ 53.6   ┆ 1.65   │\n",
      "└────────────────┴────────────┴────────┴────────┘\n"
     ]
    }
   ],
   "source": [
    "# sample\n",
    "# randomly selected undorderd rows are return \n",
    "import random \n",
    "random.seed(40)\n",
    "print(df.sample(2))\n"
   ]
  },
  {
   "cell_type": "code",
   "execution_count": 17,
   "id": "baad9a6c-b959-4853-b31c-997792a62581",
   "metadata": {},
   "outputs": [
    {
     "name": "stdout",
     "output_type": "stream",
     "text": [
      "shape: (9, 5)\n",
      "┌────────────┬────────────────┬─────────────────────┬───────────┬──────────┐\n",
      "│ statistic  ┆ name           ┆ birthdate           ┆ weight    ┆ height   │\n",
      "│ ---        ┆ ---            ┆ ---                 ┆ ---       ┆ ---      │\n",
      "│ str        ┆ str            ┆ str                 ┆ f64       ┆ f64      │\n",
      "╞════════════╪════════════════╪═════════════════════╪═══════════╪══════════╡\n",
      "│ count      ┆ 4              ┆ 4                   ┆ 4.0       ┆ 4.0      │\n",
      "│ null_count ┆ 0              ┆ 0                   ┆ 0.0       ┆ 0.0      │\n",
      "│ mean       ┆ null           ┆ 1986-09-04 00:00:00 ┆ 66.775    ┆ 1.6825   │\n",
      "│ std        ┆ null           ┆ null                ┆ 13.560082 ┆ 0.097082 │\n",
      "│ min        ┆ Alice Archer   ┆ 1981-04-30          ┆ 53.6      ┆ 1.56     │\n",
      "│ 25%        ┆ null           ┆ 1983-03-22          ┆ 57.9      ┆ 1.65     │\n",
      "│ 50%        ┆ null           ┆ 1985-02-15          ┆ 72.5      ┆ 1.75     │\n",
      "│ 75%        ┆ null           ┆ 1985-02-15          ┆ 72.5      ┆ 1.75     │\n",
      "│ max        ┆ Daniel Donovan ┆ 1997-01-10          ┆ 83.1      ┆ 1.77     │\n",
      "└────────────┴────────────────┴─────────────────────┴───────────┴──────────┘\n"
     ]
    }
   ],
   "source": [
    "# describe : to compute summary statistics for all columns of youro dataframe.\n",
    "print(df.describe())"
   ]
  },
  {
   "cell_type": "code",
   "execution_count": 19,
   "id": "03531f89-d052-43e5-9bfe-f4afa7b722f3",
   "metadata": {},
   "outputs": [
    {
     "name": "stdout",
     "output_type": "stream",
     "text": [
      "Schema({'name': String, 'birthdate': Date, 'weight': Float64, 'height': Float64})\n"
     ]
    }
   ],
   "source": [
    "# Schema : It is a mapping of column or series names to the data types of those same columns or series.\n",
    "print(df.schema)\n",
    "# Much like with series, Polars will infer the schema of a dataframe when you create it\n",
    "# but you can override the inference system if needed.\n",
    "\n"
   ]
  },
  {
   "cell_type": "code",
   "execution_count": 28,
   "id": "112d9ece-5b2f-431b-9002-eda592500e45",
   "metadata": {
    "scrolled": true
   },
   "outputs": [
    {
     "name": "stdout",
     "output_type": "stream",
     "text": [
      "shape: (4, 2)\n",
      "┌───────┬─────┐\n",
      "│ names ┆ age │\n",
      "│ ---   ┆ --- │\n",
      "│ str   ┆ u8  │\n",
      "╞═══════╪═════╡\n",
      "│ aj    ┆ 23  │\n",
      "│ sj    ┆ 20  │\n",
      "│ pp    ┆ 14  │\n",
      "│ sw    ┆ 10  │\n",
      "└───────┴─────┘\n",
      "Schema({'names': String, 'age': UInt8})\n"
     ]
    }
   ],
   "source": [
    "# , you can specify an explicit schema by using a dictionary to map column names to data types.\n",
    "df = pl.DataFrame(\n",
    "    {\n",
    "        \"names\" : [\"aj\", \"sj\", \"pp\",\"sw\"],\n",
    "        \"age\" : [23,20,14,10]\n",
    "    } ,\n",
    "    schema = {\"names\": None,\"age\":pl.UInt8},\n",
    ")\n",
    "print(df)\n",
    "print(df.schema)\n",
    "\n",
    "# For specific columns if we want ot ovveride then better to use schema_overrides instead of schema"
   ]
  },
  {
   "cell_type": "code",
   "execution_count": null,
   "id": "69a2723f-d678-425b-a753-7b759f9f1e32",
   "metadata": {},
   "outputs": [],
   "source": []
  }
 ],
 "metadata": {
  "kernelspec": {
   "display_name": "Python 3 (ipykernel)",
   "language": "python",
   "name": "python3"
  },
  "language_info": {
   "codemirror_mode": {
    "name": "ipython",
    "version": 3
   },
   "file_extension": ".py",
   "mimetype": "text/x-python",
   "name": "python",
   "nbconvert_exporter": "python",
   "pygments_lexer": "ipython3",
   "version": "3.13.1"
  }
 },
 "nbformat": 4,
 "nbformat_minor": 5
}

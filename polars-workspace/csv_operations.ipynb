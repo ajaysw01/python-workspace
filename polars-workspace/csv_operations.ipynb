{
 "cells": [
  {
   "cell_type": "code",
   "execution_count": 11,
   "metadata": {},
   "outputs": [
    {
     "name": "stdout",
     "output_type": "stream",
     "text": [
      "shape: (5, 5)\n",
      "┌──────────┬─────┬────────┬────────┬────────┐\n",
      "│ names    ┆ age ┆ salary ┆ weight ┆ height │\n",
      "│ ---      ┆ --- ┆ ---    ┆ ---    ┆ ---    │\n",
      "│ str      ┆ i64 ┆ i64    ┆ i64    ┆ f64    │\n",
      "╞══════════╪═════╪════════╪════════╪════════╡\n",
      "│ ajay     ┆ 25  ┆ 3000   ┆ 55     ┆ 1.8    │\n",
      "│ vijay    ┆ 35  ┆ 1000   ┆ 23     ┆ 1.75   │\n",
      "│ jay      ┆ 43  ┆ 2345   ┆ 43     ┆ 1.65   │\n",
      "│ digvijay ┆ 32  ┆ 6000   ┆ 24     ┆ 2.2    │\n",
      "│ ranvijay ┆ 48  ┆ 8000   ┆ 70     ┆ 1.2    │\n",
      "└──────────┴─────┴────────┴────────┴────────┘\n"
     ]
    }
   ],
   "source": [
    "import polars as pl \n",
    "\n",
    "df = pl.DataFrame({\n",
    "    \"names\" :[\"ajay\", \"vijay\", \"jay\", \"digvijay\",\"ranvijay\"],\n",
    "    \"age\" : [25,35,43,32,48],\n",
    "    \"salary\" :[3000,1000,2345,6000,8000],\n",
    "    \"weight\" : [55,23,43,24,70],\n",
    "    \"height\": [1.8, 1.75, 1.65,2.2,1.2],\n",
    "})\n",
    "# print(df)\n",
    "\n",
    "# writing to csv file\n",
    "df.write_csv(\"file.csv\")\n",
    "\n",
    "# reading form a csv\n",
    "print(pl.read_csv(\"file.csv\"))"
   ]
  },
  {
   "cell_type": "code",
   "execution_count": 25,
   "metadata": {},
   "outputs": [
    {
     "ename": "PanicException",
     "evalue": "called `Result::unwrap()` on an `Err` value: ComputeError(ErrString(\"Struct array must be created with a DataType whose physical type is Struct\"))",
     "output_type": "error",
     "traceback": [
      "\u001b[1;31m---------------------------------------------------------------------------\u001b[0m",
      "\u001b[1;31mPanicException\u001b[0m                            Traceback (most recent call last)",
      "Cell \u001b[1;32mIn[25], line 8\u001b[0m\n\u001b[0;32m      2\u001b[0m df\u001b[38;5;241m.\u001b[39mwrite_json(\u001b[38;5;124m\"\u001b[39m\u001b[38;5;124mfile.json\u001b[39m\u001b[38;5;124m\"\u001b[39m)\n\u001b[0;32m      4\u001b[0m \u001b[38;5;66;03m# reading from json\u001b[39;00m\n\u001b[0;32m      5\u001b[0m \u001b[38;5;66;03m# pl.read_json(\"file.json\")\u001b[39;00m\n\u001b[0;32m      6\u001b[0m \n\u001b[0;32m      7\u001b[0m \u001b[38;5;66;03m# ndjson : newline delimited json\u001b[39;00m\n\u001b[1;32m----> 8\u001b[0m \u001b[43mpl\u001b[49m\u001b[38;5;241;43m.\u001b[39;49m\u001b[43mread_ndjson\u001b[49m\u001b[43m(\u001b[49m\u001b[38;5;124;43m\"\u001b[39;49m\u001b[38;5;124;43mfile.json\u001b[39;49m\u001b[38;5;124;43m\"\u001b[39;49m\u001b[43m)\u001b[49m\n",
      "File \u001b[1;32mc:\\Users\\csinaywe\\AppData\\Local\\Programs\\Python\\Python313\\Lib\\site-packages\\polars\\io\\ndjson.py:181\u001b[0m, in \u001b[0;36mread_ndjson\u001b[1;34m(source, schema, schema_overrides, infer_schema_length, batch_size, n_rows, low_memory, rechunk, row_index_name, row_index_offset, ignore_errors, storage_options, credential_provider, retries, file_cache_ttl, include_file_paths)\u001b[0m\n\u001b[0;32m    158\u001b[0m     \u001b[38;5;28;01mreturn\u001b[39;00m df\n\u001b[0;32m    160\u001b[0m credential_provider \u001b[38;5;241m=\u001b[39m _maybe_init_credential_provider(\n\u001b[0;32m    161\u001b[0m     credential_provider, source, storage_options, \u001b[38;5;124m\"\u001b[39m\u001b[38;5;124mread_ndjson\u001b[39m\u001b[38;5;124m\"\u001b[39m\n\u001b[0;32m    162\u001b[0m )\n\u001b[0;32m    164\u001b[0m \u001b[38;5;28;01mreturn\u001b[39;00m \u001b[43mscan_ndjson\u001b[49m\u001b[43m(\u001b[49m\n\u001b[0;32m    165\u001b[0m \u001b[43m    \u001b[49m\u001b[43msource\u001b[49m\u001b[43m,\u001b[49m\n\u001b[0;32m    166\u001b[0m \u001b[43m    \u001b[49m\u001b[43mschema\u001b[49m\u001b[38;5;241;43m=\u001b[39;49m\u001b[43mschema\u001b[49m\u001b[43m,\u001b[49m\n\u001b[0;32m    167\u001b[0m \u001b[43m    \u001b[49m\u001b[43mschema_overrides\u001b[49m\u001b[38;5;241;43m=\u001b[39;49m\u001b[43mschema_overrides\u001b[49m\u001b[43m,\u001b[49m\n\u001b[0;32m    168\u001b[0m \u001b[43m    \u001b[49m\u001b[43minfer_schema_length\u001b[49m\u001b[38;5;241;43m=\u001b[39;49m\u001b[43minfer_schema_length\u001b[49m\u001b[43m,\u001b[49m\n\u001b[0;32m    169\u001b[0m \u001b[43m    \u001b[49m\u001b[43mbatch_size\u001b[49m\u001b[38;5;241;43m=\u001b[39;49m\u001b[43mbatch_size\u001b[49m\u001b[43m,\u001b[49m\n\u001b[0;32m    170\u001b[0m \u001b[43m    \u001b[49m\u001b[43mn_rows\u001b[49m\u001b[38;5;241;43m=\u001b[39;49m\u001b[43mn_rows\u001b[49m\u001b[43m,\u001b[49m\n\u001b[0;32m    171\u001b[0m \u001b[43m    \u001b[49m\u001b[43mlow_memory\u001b[49m\u001b[38;5;241;43m=\u001b[39;49m\u001b[43mlow_memory\u001b[49m\u001b[43m,\u001b[49m\n\u001b[0;32m    172\u001b[0m \u001b[43m    \u001b[49m\u001b[43mrechunk\u001b[49m\u001b[38;5;241;43m=\u001b[39;49m\u001b[43mrechunk\u001b[49m\u001b[43m,\u001b[49m\n\u001b[0;32m    173\u001b[0m \u001b[43m    \u001b[49m\u001b[43mrow_index_name\u001b[49m\u001b[38;5;241;43m=\u001b[39;49m\u001b[43mrow_index_name\u001b[49m\u001b[43m,\u001b[49m\n\u001b[0;32m    174\u001b[0m \u001b[43m    \u001b[49m\u001b[43mrow_index_offset\u001b[49m\u001b[38;5;241;43m=\u001b[39;49m\u001b[43mrow_index_offset\u001b[49m\u001b[43m,\u001b[49m\n\u001b[0;32m    175\u001b[0m \u001b[43m    \u001b[49m\u001b[43mignore_errors\u001b[49m\u001b[38;5;241;43m=\u001b[39;49m\u001b[43mignore_errors\u001b[49m\u001b[43m,\u001b[49m\n\u001b[0;32m    176\u001b[0m \u001b[43m    \u001b[49m\u001b[43minclude_file_paths\u001b[49m\u001b[38;5;241;43m=\u001b[39;49m\u001b[43minclude_file_paths\u001b[49m\u001b[43m,\u001b[49m\n\u001b[0;32m    177\u001b[0m \u001b[43m    \u001b[49m\u001b[43mretries\u001b[49m\u001b[38;5;241;43m=\u001b[39;49m\u001b[43mretries\u001b[49m\u001b[43m,\u001b[49m\n\u001b[0;32m    178\u001b[0m \u001b[43m    \u001b[49m\u001b[43mstorage_options\u001b[49m\u001b[38;5;241;43m=\u001b[39;49m\u001b[43mstorage_options\u001b[49m\u001b[43m,\u001b[49m\n\u001b[0;32m    179\u001b[0m \u001b[43m    \u001b[49m\u001b[43mcredential_provider\u001b[49m\u001b[38;5;241;43m=\u001b[39;49m\u001b[43mcredential_provider\u001b[49m\u001b[43m,\u001b[49m\n\u001b[0;32m    180\u001b[0m \u001b[43m    \u001b[49m\u001b[43mfile_cache_ttl\u001b[49m\u001b[38;5;241;43m=\u001b[39;49m\u001b[43mfile_cache_ttl\u001b[49m\u001b[43m,\u001b[49m\n\u001b[1;32m--> 181\u001b[0m \u001b[43m\u001b[49m\u001b[43m)\u001b[49m\u001b[38;5;241;43m.\u001b[39;49m\u001b[43mcollect\u001b[49m\u001b[43m(\u001b[49m\u001b[43m)\u001b[49m\n",
      "File \u001b[1;32mc:\\Users\\csinaywe\\AppData\\Local\\Programs\\Python\\Python313\\Lib\\site-packages\\polars\\lazyframe\\frame.py:2056\u001b[0m, in \u001b[0;36mLazyFrame.collect\u001b[1;34m(self, type_coercion, _type_check, predicate_pushdown, projection_pushdown, simplify_expression, slice_pushdown, comm_subplan_elim, comm_subexpr_elim, cluster_with_columns, collapse_joins, no_optimization, streaming, engine, background, _check_order, _eager, **_kwargs)\u001b[0m\n\u001b[0;32m   2054\u001b[0m \u001b[38;5;66;03m# Only for testing purposes\u001b[39;00m\n\u001b[0;32m   2055\u001b[0m callback \u001b[38;5;241m=\u001b[39m _kwargs\u001b[38;5;241m.\u001b[39mget(\u001b[38;5;124m\"\u001b[39m\u001b[38;5;124mpost_opt_callback\u001b[39m\u001b[38;5;124m\"\u001b[39m, callback)\n\u001b[1;32m-> 2056\u001b[0m \u001b[38;5;28;01mreturn\u001b[39;00m wrap_df(\u001b[43mldf\u001b[49m\u001b[38;5;241;43m.\u001b[39;49m\u001b[43mcollect\u001b[49m\u001b[43m(\u001b[49m\u001b[43mcallback\u001b[49m\u001b[43m)\u001b[49m)\n",
      "\u001b[1;31mPanicException\u001b[0m: called `Result::unwrap()` on an `Err` value: ComputeError(ErrString(\"Struct array must be created with a DataType whose physical type is Struct\"))"
     ]
    }
   ],
   "source": [
    "# working with json\n",
    "df.write_json(\"file.json\")\n",
    "\n",
    "# reading from json\n",
    "pl.read_json(\"file.json\")\n",
    "\n",
    "# ndjson : newline delimited json\n",
    "# pl.read_ndjson(\"file.json\")  #it will give error"
   ]
  },
  {
   "cell_type": "code",
   "execution_count": 21,
   "metadata": {},
   "outputs": [
    {
     "data": {
      "text/html": [
       "<div><style>\n",
       ".dataframe > thead > tr,\n",
       ".dataframe > tbody > tr {\n",
       "  text-align: right;\n",
       "  white-space: pre-wrap;\n",
       "}\n",
       "</style>\n",
       "<small>shape: (5, 5)</small><table border=\"1\" class=\"dataframe\"><thead><tr><th>names</th><th>age</th><th>salary</th><th>weight</th><th>height</th></tr><tr><td>str</td><td>i64</td><td>i64</td><td>i64</td><td>f64</td></tr></thead><tbody><tr><td>&quot;ajay&quot;</td><td>25</td><td>3000</td><td>55</td><td>1.8</td></tr><tr><td>&quot;vijay&quot;</td><td>35</td><td>1000</td><td>23</td><td>1.75</td></tr><tr><td>&quot;jay&quot;</td><td>43</td><td>2345</td><td>43</td><td>1.65</td></tr><tr><td>&quot;digvijay&quot;</td><td>32</td><td>6000</td><td>24</td><td>2.2</td></tr><tr><td>&quot;ranvijay&quot;</td><td>48</td><td>8000</td><td>70</td><td>1.2</td></tr></tbody></table></div>"
      ],
      "text/plain": [
       "shape: (5, 5)\n",
       "┌──────────┬─────┬────────┬────────┬────────┐\n",
       "│ names    ┆ age ┆ salary ┆ weight ┆ height │\n",
       "│ ---      ┆ --- ┆ ---    ┆ ---    ┆ ---    │\n",
       "│ str      ┆ i64 ┆ i64    ┆ i64    ┆ f64    │\n",
       "╞══════════╪═════╪════════╪════════╪════════╡\n",
       "│ ajay     ┆ 25  ┆ 3000   ┆ 55     ┆ 1.8    │\n",
       "│ vijay    ┆ 35  ┆ 1000   ┆ 23     ┆ 1.75   │\n",
       "│ jay      ┆ 43  ┆ 2345   ┆ 43     ┆ 1.65   │\n",
       "│ digvijay ┆ 32  ┆ 6000   ┆ 24     ┆ 2.2    │\n",
       "│ ranvijay ┆ 48  ┆ 8000   ┆ 70     ┆ 1.2    │\n",
       "└──────────┴─────┴────────┴────────┴────────┘"
      ]
     },
     "execution_count": 21,
     "metadata": {},
     "output_type": "execute_result"
    }
   ],
   "source": [
    "# wrting to xlsx\n",
    "df.write_excel(\"file.xlsx\",worksheet=\"Person Details\")\n",
    "\n",
    "# readinf from excell\n",
    "pl.read_excel(\"file.xlsx\",sheet_name=\"Person Details\")"
   ]
  },
  {
   "cell_type": "code",
   "execution_count": 23,
   "metadata": {},
   "outputs": [
    {
     "data": {
      "text/html": [
       "<div><style>\n",
       ".dataframe > thead > tr,\n",
       ".dataframe > tbody > tr {\n",
       "  text-align: right;\n",
       "  white-space: pre-wrap;\n",
       "}\n",
       "</style>\n",
       "<small>shape: (5, 5)</small><table border=\"1\" class=\"dataframe\"><thead><tr><th>names</th><th>age</th><th>salary</th><th>weight</th><th>height</th></tr><tr><td>str</td><td>i64</td><td>i64</td><td>i64</td><td>f64</td></tr></thead><tbody><tr><td>&quot;ajay&quot;</td><td>25</td><td>3000</td><td>55</td><td>1.8</td></tr><tr><td>&quot;vijay&quot;</td><td>35</td><td>1000</td><td>23</td><td>1.75</td></tr><tr><td>&quot;jay&quot;</td><td>43</td><td>2345</td><td>43</td><td>1.65</td></tr><tr><td>&quot;digvijay&quot;</td><td>32</td><td>6000</td><td>24</td><td>2.2</td></tr><tr><td>&quot;ranvijay&quot;</td><td>48</td><td>8000</td><td>70</td><td>1.2</td></tr></tbody></table></div>"
      ],
      "text/plain": [
       "shape: (5, 5)\n",
       "┌──────────┬─────┬────────┬────────┬────────┐\n",
       "│ names    ┆ age ┆ salary ┆ weight ┆ height │\n",
       "│ ---      ┆ --- ┆ ---    ┆ ---    ┆ ---    │\n",
       "│ str      ┆ i64 ┆ i64    ┆ i64    ┆ f64    │\n",
       "╞══════════╪═════╪════════╪════════╪════════╡\n",
       "│ ajay     ┆ 25  ┆ 3000   ┆ 55     ┆ 1.8    │\n",
       "│ vijay    ┆ 35  ┆ 1000   ┆ 23     ┆ 1.75   │\n",
       "│ jay      ┆ 43  ┆ 2345   ┆ 43     ┆ 1.65   │\n",
       "│ digvijay ┆ 32  ┆ 6000   ┆ 24     ┆ 2.2    │\n",
       "│ ranvijay ┆ 48  ┆ 8000   ┆ 70     ┆ 1.2    │\n",
       "└──────────┴─────┴────────┴────────┴────────┘"
      ]
     },
     "execution_count": 23,
     "metadata": {},
     "output_type": "execute_result"
    }
   ],
   "source": [
    "# parquet files\n",
    "df.write_parquet(\"file.parquet\")\n",
    "# read\n",
    "pl.read_parquet(\"file.parquet\")"
   ]
  }
 ],
 "metadata": {
  "kernelspec": {
   "display_name": "Python 3",
   "language": "python",
   "name": "python3"
  },
  "language_info": {
   "codemirror_mode": {
    "name": "ipython",
    "version": 3
   },
   "file_extension": ".py",
   "mimetype": "text/x-python",
   "name": "python",
   "nbconvert_exporter": "python",
   "pygments_lexer": "ipython3",
   "version": "3.13.1"
  }
 },
 "nbformat": 4,
 "nbformat_minor": 2
}

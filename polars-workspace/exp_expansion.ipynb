{
 "cells": [
  {
   "cell_type": "markdown",
   "metadata": {},
   "source": [
    "### Expression Expansion\n",
    "- expression expansion is a feature that enables you to write a single expression that can expand to multiple different expressions, possibly depending on the schema of the context in which the expression is used."
   ]
  },
  {
   "cell_type": "code",
   "execution_count": 3,
   "metadata": {},
   "outputs": [
    {
     "name": "stdout",
     "output_type": "stream",
     "text": [
      "shape: (5, 7)\n",
      "┌────────┬───────────────────┬────────┬──────────┬─────────┬───────────┬──────────┐\n",
      "│ ticker ┆ company_name      ┆ price  ┆ day_high ┆ day_low ┆ year_high ┆ year_low │\n",
      "│ ---    ┆ ---               ┆ ---    ┆ ---      ┆ ---     ┆ ---       ┆ ---      │\n",
      "│ str    ┆ str               ┆ f64    ┆ f64      ┆ f64     ┆ f64       ┆ f64      │\n",
      "╞════════╪═══════════════════╪════════╪══════════╪═════════╪═══════════╪══════════╡\n",
      "│ AAPL   ┆ Apple             ┆ 229.9  ┆ 231.31   ┆ 228.6   ┆ 237.23    ┆ 164.08   │\n",
      "│ NVDA   ┆ NVIDIA            ┆ 138.93 ┆ 139.6    ┆ 136.3   ┆ 140.76    ┆ 39.23    │\n",
      "│ MSFT   ┆ Microsoft         ┆ 420.56 ┆ 424.04   ┆ 417.52  ┆ 468.35    ┆ 324.39   │\n",
      "│ GOOG   ┆ Alphabet (Google) ┆ 166.41 ┆ 167.62   ┆ 164.78  ┆ 193.31    ┆ 121.46   │\n",
      "│ AMZN   ┆ Amazon            ┆ 188.4  ┆ 189.83   ┆ 188.44  ┆ 201.2     ┆ 118.35   │\n",
      "└────────┴───────────────────┴────────┴──────────┴─────────┴───────────┴──────────┘\n"
     ]
    }
   ],
   "source": [
    "import polars as pl\n",
    "\n",
    "df = pl.DataFrame(\n",
    "    {  \n",
    "        \"ticker\": [\"AAPL\", \"NVDA\", \"MSFT\", \"GOOG\", \"AMZN\"],\n",
    "        \"company_name\": [\"Apple\", \"NVIDIA\", \"Microsoft\", \"Alphabet (Google)\", \"Amazon\"],\n",
    "        \"price\": [229.9, 138.93, 420.56, 166.41, 188.4],\n",
    "        \"day_high\": [231.31, 139.6, 424.04, 167.62, 189.83],\n",
    "        \"day_low\": [228.6, 136.3, 417.52, 164.78, 188.44],\n",
    "        \"year_high\": [237.23, 140.76, 468.35, 193.31, 201.2],\n",
    "        \"year_low\": [164.08, 39.23, 324.39, 121.46, 118.35],\n",
    "    }\n",
    ")\n",
    "\n",
    "print(df)"
   ]
  },
  {
   "cell_type": "markdown",
   "metadata": {},
   "source": [
    "### Function col\n",
    "1. Explicit expansion by column name : multiple col names in func col\n"
   ]
  },
  {
   "cell_type": "code",
   "execution_count": 12,
   "metadata": {},
   "outputs": [
    {
     "name": "stdout",
     "output_type": "stream",
     "text": [
      "shape: (5, 7)\n",
      "┌────────┬───────────────────┬────────┬──────────┬─────────┬───────────┬──────────┐\n",
      "│ ticker ┆ company_name      ┆ price  ┆ day_high ┆ day_low ┆ year_high ┆ year_low │\n",
      "│ ---    ┆ ---               ┆ ---    ┆ ---      ┆ ---     ┆ ---       ┆ ---      │\n",
      "│ str    ┆ str               ┆ f64    ┆ f64      ┆ f64     ┆ f64       ┆ f64      │\n",
      "╞════════╪═══════════════════╪════════╪══════════╪═════════╪═══════════╪══════════╡\n",
      "│ AAPL   ┆ Apple             ┆ 210.92 ┆ 212.21   ┆ 209.72  ┆ 217.64    ┆ 150.53   │\n",
      "│ NVDA   ┆ NVIDIA            ┆ 127.46 ┆ 128.07   ┆ 125.05  ┆ 129.14    ┆ 35.99    │\n",
      "│ MSFT   ┆ Microsoft         ┆ 385.83 ┆ 389.03   ┆ 383.05  ┆ 429.68    ┆ 297.61   │\n",
      "│ GOOG   ┆ Alphabet (Google) ┆ 152.67 ┆ 153.78   ┆ 151.17  ┆ 177.35    ┆ 111.43   │\n",
      "│ AMZN   ┆ Amazon            ┆ 172.84 ┆ 174.16   ┆ 172.88  ┆ 184.59    ┆ 108.58   │\n",
      "└────────┴───────────────────┴────────┴──────────┴─────────┴───────────┴──────────┘\n",
      "True\n"
     ]
    }
   ],
   "source": [
    "eur_usd_rate = 1.09  # As of 14th October 2024\n",
    "\n",
    "result = df.with_columns(\n",
    "    (\n",
    "        pl.col(\n",
    "            \"price\",\n",
    "            \"day_high\",\n",
    "            \"day_low\",\n",
    "            \"year_high\",\n",
    "            \"year_low\",\n",
    "        )\n",
    "        / eur_usd_rate\n",
    "    ).round(2)\n",
    ")\n",
    "print(result)\n",
    "# print(df)\n",
    "# the above code is equivalent to below \n",
    "exprs = [\n",
    "    (pl.col(\"price\") / eur_usd_rate).round(2),\n",
    "    (pl.col(\"day_high\") / eur_usd_rate).round(2),\n",
    "    (pl.col(\"day_low\") / eur_usd_rate).round(2),\n",
    "    (pl.col(\"year_high\") / eur_usd_rate).round(2),\n",
    "    (pl.col(\"year_low\") / eur_usd_rate).round(2),\n",
    "]\n",
    "\n",
    "result2 = df.with_columns(exprs)\n",
    "print(result.equals(result2))"
   ]
  },
  {
   "cell_type": "markdown",
   "metadata": {},
   "source": [
    "### Expansion by data type\n",
    "- If you provide data types instead of column names, the expression is expanded to all columns that match one of the data types provided.\n"
   ]
  },
  {
   "cell_type": "code",
   "execution_count": 15,
   "metadata": {},
   "outputs": [
    {
     "name": "stdout",
     "output_type": "stream",
     "text": [
      "shape: (5, 7)\n",
      "┌────────┬───────────────────┬────────┬──────────┬─────────┬───────────┬──────────┐\n",
      "│ ticker ┆ company_name      ┆ price  ┆ day_high ┆ day_low ┆ year_high ┆ year_low │\n",
      "│ ---    ┆ ---               ┆ ---    ┆ ---      ┆ ---     ┆ ---       ┆ ---      │\n",
      "│ str    ┆ str               ┆ f64    ┆ f64      ┆ f64     ┆ f64       ┆ f64      │\n",
      "╞════════╪═══════════════════╪════════╪══════════╪═════════╪═══════════╪══════════╡\n",
      "│ AAPL   ┆ Apple             ┆ 210.92 ┆ 212.21   ┆ 209.72  ┆ 217.64    ┆ 150.53   │\n",
      "│ NVDA   ┆ NVIDIA            ┆ 127.46 ┆ 128.07   ┆ 125.05  ┆ 129.14    ┆ 35.99    │\n",
      "│ MSFT   ┆ Microsoft         ┆ 385.83 ┆ 389.03   ┆ 383.05  ┆ 429.68    ┆ 297.61   │\n",
      "│ GOOG   ┆ Alphabet (Google) ┆ 152.67 ┆ 153.78   ┆ 151.17  ┆ 177.35    ┆ 111.43   │\n",
      "│ AMZN   ┆ Amazon            ┆ 172.84 ┆ 174.16   ┆ 172.88  ┆ 184.59    ┆ 108.58   │\n",
      "└────────┴───────────────────┴────────┴──────────┴─────────┴───────────┴──────────┘\n"
     ]
    }
   ],
   "source": [
    "result = df.with_columns((pl.col(pl.Float64)/eur_usd_rate).round(2))\n",
    "# if dont knwo the type we can provide multiple : pl.col(pl.Float32, pl.Float64)\n",
    "print(result)"
   ]
  },
  {
   "cell_type": "markdown",
   "metadata": {},
   "source": [
    "### Expansion by pattern matching\n",
    "- To distinguish between a regular column name and expansion by pattern matching, regular expressions start and end with ^ and $, respectively. "
   ]
  },
  {
   "cell_type": "code",
   "execution_count": null,
   "metadata": {},
   "outputs": [],
   "source": []
  }
 ],
 "metadata": {
  "kernelspec": {
   "display_name": "Python 3",
   "language": "python",
   "name": "python3"
  },
  "language_info": {
   "codemirror_mode": {
    "name": "ipython",
    "version": 3
   },
   "file_extension": ".py",
   "mimetype": "text/x-python",
   "name": "python",
   "nbconvert_exporter": "python",
   "pygments_lexer": "ipython3",
   "version": "3.13.1"
  }
 },
 "nbformat": 4,
 "nbformat_minor": 2
}

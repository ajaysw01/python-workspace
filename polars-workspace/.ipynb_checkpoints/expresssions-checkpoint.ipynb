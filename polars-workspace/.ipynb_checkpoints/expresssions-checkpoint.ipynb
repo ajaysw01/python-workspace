{
 "cells": [
  {
   "cell_type": "markdown",
   "id": "0e343ec2-e750-46bc-b0f3-b824159be587",
   "metadata": {},
   "source": [
    "## Expression And Contexts\n",
    "### Expression : \n",
    "an expression is a lazy representation of a data transformation. "
   ]
  },
  {
   "cell_type": "code",
   "execution_count": 12,
   "id": "c7975e6f-fcef-442a-a7b7-ee987d8b17e0",
   "metadata": {},
   "outputs": [
    {
     "name": "stdout",
     "output_type": "stream",
     "text": [
      "[(col(\"weight\")) / (col(\"height\").pow([dyn int: 2]))]\n"
     ]
    }
   ],
   "source": [
    "import polars as pl\n",
    "bmi_expr = pl.col(\"weight\") / (pl.col(\"height\") ** 2)\n",
    "print(bmi_expr)"
   ]
  },
  {
   "cell_type": "markdown",
   "id": "e7cf8dde-e35b-4a8a-91ac-dd2fc66a2ad3",
   "metadata": {},
   "source": [
    "### Contexts : \n",
    "Polars expressions need a context in which they are executed to produce a result. \n",
    "Depending on the context it is used in, the same Polars expression can produce different results"
   ]
  },
  {
   "cell_type": "code",
   "execution_count": 13,
   "id": "61732cad-ab66-4a9d-887e-0a00d25950c5",
   "metadata": {},
   "outputs": [
    {
     "name": "stdout",
     "output_type": "stream",
     "text": [
      "shape: (4, 4)\n",
      "┌────────────────┬────────────┬────────┬────────┐\n",
      "│ name           ┆ birthdate  ┆ weight ┆ height │\n",
      "│ ---            ┆ ---        ┆ ---    ┆ ---    │\n",
      "│ str            ┆ date       ┆ f64    ┆ f64    │\n",
      "╞════════════════╪════════════╪════════╪════════╡\n",
      "│ Alice Archer   ┆ 1997-01-10 ┆ 57.9   ┆ 1.56   │\n",
      "│ Ben Brown      ┆ 1985-02-15 ┆ 72.5   ┆ 1.77   │\n",
      "│ Chloe Cooper   ┆ 1983-03-22 ┆ 53.6   ┆ 1.65   │\n",
      "│ Daniel Donovan ┆ 1981-04-30 ┆ 83.1   ┆ 1.75   │\n",
      "└────────────────┴────────────┴────────┴────────┘\n"
     ]
    }
   ],
   "source": [
    "# 1. select 2.with_columns 3.filter 4.group_by\n",
    "from datetime import date\n",
    "\n",
    "df = pl.DataFrame(\n",
    "    {\n",
    "        \"name\": [\"Alice Archer\", \"Ben Brown\", \"Chloe Cooper\", \"Daniel Donovan\"],\n",
    "        \"birthdate\": [\n",
    "            date(1997, 1, 10),\n",
    "            date(1985, 2, 15),\n",
    "            date(1983, 3, 22),\n",
    "            date(1981, 4, 30),\n",
    "        ],\n",
    "        \"weight\": [57.9, 72.5, 53.6, 83.1],  # (kg)\n",
    "        \"height\": [1.56, 1.77, 1.65, 1.75],  # (m)\n",
    "    }\n",
    ")\n",
    "\n",
    "print(df)"
   ]
  },
  {
   "cell_type": "code",
   "execution_count": 21,
   "id": "64d8d420-9533-42a5-baf0-348052e66e59",
   "metadata": {},
   "outputs": [
    {
     "name": "stdout",
     "output_type": "stream",
     "text": [
      "shape: (4, 3)\n",
      "┌───────────┬───────────┬───────────────┐\n",
      "│ bmi       ┆ avg_bmi   ┆ ideal_max_bmi │\n",
      "│ ---       ┆ ---       ┆ ---           │\n",
      "│ f64       ┆ f64       ┆ i32           │\n",
      "╞═══════════╪═══════════╪═══════════════╡\n",
      "│ 23.791913 ┆ 23.438973 ┆ 25            │\n",
      "│ 23.141498 ┆ 23.438973 ┆ 25            │\n",
      "│ 19.687787 ┆ 23.438973 ┆ 25            │\n",
      "│ 27.134694 ┆ 23.438973 ┆ 25            │\n",
      "└───────────┴───────────┴───────────────┘\n",
      "shape: (4, 1)\n",
      "┌───────────┐\n",
      "│ deviation │\n",
      "│ ---       │\n",
      "│ f64       │\n",
      "╞═══════════╡\n",
      "│ 0.115645  │\n",
      "│ -0.097471 │\n",
      "│ -1.22912  │\n",
      "│ 1.210946  │\n",
      "└───────────┘\n"
     ]
    }
   ],
   "source": [
    "# The selection context select applies expressions over columns. \n",
    "# The context select may produce new columns that are aggregations, combinations of other columns, or literals:\n",
    "result = df.select(\n",
    "    bmi = bmi_expr,\n",
    "    avg_bmi = bmi_expr.mean(),\n",
    "    ideal_max_bmi = 25,\n",
    ")\n",
    "print(result)\n",
    "      \n",
    "# Note that broadcasting can also occur within expressions. For instance, consider the expression below:\n",
    "result = df.select(deviation = (bmi_expr - bmi_expr.mean())/bmi_expr.std())\n",
    "print(result)"
   ]
  },
  {
   "cell_type": "code",
   "execution_count": 18,
   "id": "12272ac7-0fdc-4bf7-8b81-073c097a4ff4",
   "metadata": {},
   "outputs": [
    {
     "name": "stdout",
     "output_type": "stream",
     "text": [
      "shape: (4, 7)\n",
      "┌────────────────┬────────────┬────────┬────────┬───────────┬───────────┬───────────────┐\n",
      "│ name           ┆ birthdate  ┆ weight ┆ height ┆ bmi       ┆ avg_bmi   ┆ ideal_max_bmi │\n",
      "│ ---            ┆ ---        ┆ ---    ┆ ---    ┆ ---       ┆ ---       ┆ ---           │\n",
      "│ str            ┆ date       ┆ f64    ┆ f64    ┆ f64       ┆ f64       ┆ i32           │\n",
      "╞════════════════╪════════════╪════════╪════════╪═══════════╪═══════════╪═══════════════╡\n",
      "│ Alice Archer   ┆ 1997-01-10 ┆ 57.9   ┆ 1.56   ┆ 23.791913 ┆ 23.438973 ┆ 25            │\n",
      "│ Ben Brown      ┆ 1985-02-15 ┆ 72.5   ┆ 1.77   ┆ 23.141498 ┆ 23.438973 ┆ 25            │\n",
      "│ Chloe Cooper   ┆ 1983-03-22 ┆ 53.6   ┆ 1.65   ┆ 19.687787 ┆ 23.438973 ┆ 25            │\n",
      "│ Daniel Donovan ┆ 1981-04-30 ┆ 83.1   ┆ 1.75   ┆ 27.134694 ┆ 23.438973 ┆ 25            │\n",
      "└────────────────┴────────────┴────────┴────────┴───────────┴───────────┴───────────────┘\n"
     ]
    }
   ],
   "source": [
    "# The main difference between the two is that the context with_columns creates a new dataframe that contains\n",
    "# the columns from the original dataframe and the new columns according to its input expressions,\n",
    "# whereas the context select only includes the columns selected by its input expressions:\n",
    "result = df.with_columns(\n",
    "    bmi = bmi_expr,\n",
    "    avg_bmi = bmi_expr.mean(),\n",
    "    ideal_max_bmi = 25,    \n",
    ")\n",
    "print(result)"
   ]
  },
  {
   "cell_type": "code",
   "execution_count": 20,
   "id": "c160b505-2738-4eba-a9b0-1cd1ddf170d2",
   "metadata": {},
   "outputs": [
    {
     "name": "stdout",
     "output_type": "stream",
     "text": [
      "shape: (1, 4)\n",
      "┌───────────┬────────────┬────────┬────────┐\n",
      "│ name      ┆ birthdate  ┆ weight ┆ height │\n",
      "│ ---       ┆ ---        ┆ ---    ┆ ---    │\n",
      "│ str       ┆ date       ┆ f64    ┆ f64    │\n",
      "╞═══════════╪════════════╪════════╪════════╡\n",
      "│ Ben Brown ┆ 1985-02-15 ┆ 72.5   ┆ 1.77   │\n",
      "└───────────┴────────────┴────────┴────────┘\n"
     ]
    }
   ],
   "source": [
    "# The context filter filters the rows of a dataframe based on one or more expressions that evaluate to the Boolean data type.\n",
    "\n",
    "result = df.filter(\n",
    "    pl.col(\"birthdate\").is_between(date(1982,12,31), date(1996,1,1)),\n",
    "    pl.col(\"height\") > 1.7,\n",
    ")\n",
    "print(result)"
   ]
  },
  {
   "cell_type": "code",
   "execution_count": 23,
   "id": "8c6c44d7-9e79-4b00-9789-40dee7de3690",
   "metadata": {},
   "outputs": [
    {
     "name": "stdout",
     "output_type": "stream",
     "text": [
      "shape: (2, 2)\n",
      "┌────────┬─────────────────────────────────┐\n",
      "│ decade ┆ name                            │\n",
      "│ ---    ┆ ---                             │\n",
      "│ i32    ┆ list[str]                       │\n",
      "╞════════╪═════════════════════════════════╡\n",
      "│ 1980   ┆ [\"Ben Brown\", \"Chloe Cooper\", … │\n",
      "│ 1990   ┆ [\"Alice Archer\"]                │\n",
      "└────────┴─────────────────────────────────┘\n"
     ]
    }
   ],
   "source": [
    "# group_by and aggregations \n",
    "# In the context group_by, rows are grouped according to the unique values of the grouping expressions. \n",
    "# You can then apply expressions to the resulting groups, which may be of variable lengths.\n",
    "result = df.group_by(\n",
    "    (pl.col(\"birthdate\").dt.year() // 10 * 10).alias(\"decade\"),\n",
    ").agg(pl.col(\"name\"))\n",
    "print(result)"
   ]
  },
  {
   "cell_type": "code",
   "execution_count": 32,
   "id": "8e763f33-2c55-4a6b-b321-a51d345b2fcb",
   "metadata": {},
   "outputs": [
    {
     "name": "stdout",
     "output_type": "stream",
     "text": [
      "shape: (3, 4)\n",
      "┌────────┬─────────┬─────────┬─────────────────────────────────┐\n",
      "│ decade ┆ isShort ┆ isObese ┆ name                            │\n",
      "│ ---    ┆ ---     ┆ ---     ┆ ---                             │\n",
      "│ i32    ┆ bool    ┆ bool    ┆ list[str]                       │\n",
      "╞════════╪═════════╪═════════╪═════════════════════════════════╡\n",
      "│ 1980   ┆ true    ┆ false   ┆ [\"Chloe Cooper\"]                │\n",
      "│ 1990   ┆ true    ┆ false   ┆ [\"Alice Archer\"]                │\n",
      "│ 1980   ┆ false   ┆ true    ┆ [\"Ben Brown\", \"Daniel Donovan\"… │\n",
      "└────────┴─────────┴─────────┴─────────────────────────────────┘\n"
     ]
    }
   ],
   "source": [
    "# multiple groupings\n",
    "mean_weight = df[\"weight\"].mean()\n",
    "\n",
    "# Perform the grouping\n",
    "result = df.group_by(\n",
    "    (pl.col(\"birthdate\").dt.year()// 10 * 10).alias(\"decade\"),\n",
    "    (pl.col(\"height\") < 1.7).alias(\"isShort\"),\n",
    "    (pl.col(\"weight\") > mean_weight).alias(\"isObese\")\n",
    ").agg(pl.col(\"name\"))\n",
    "\n",
    "print(result)"
   ]
  },
  {
   "cell_type": "code",
   "execution_count": 41,
   "id": "753a6019-75d2-4de3-b91a-3106c3ff6bbd",
   "metadata": {},
   "outputs": [
    {
     "name": "stdout",
     "output_type": "stream",
     "text": [
      "shape: (3, 6)\n",
      "┌────────┬─────────┬─────┬─────────┬────────────┬────────────┐\n",
      "│ decade ┆ isShort ┆ len ┆ tallest ┆ avg_weight ┆ avg_height │\n",
      "│ ---    ┆ ---     ┆ --- ┆ ---     ┆ ---        ┆ ---        │\n",
      "│ i32    ┆ bool    ┆ u32 ┆ f64     ┆ f64        ┆ f64        │\n",
      "╞════════╪═════════╪═════╪═════════╪════════════╪════════════╡\n",
      "│ 1980   ┆ true    ┆ 1   ┆ 1.65    ┆ 53.6       ┆ 1.65       │\n",
      "│ 1980   ┆ false   ┆ 2   ┆ 1.77    ┆ 77.8       ┆ 1.76       │\n",
      "│ 1990   ┆ true    ┆ 1   ┆ 1.56    ┆ 57.9       ┆ 1.56       │\n",
      "└────────┴─────────┴─────┴─────────┴────────────┴────────────┘\n"
     ]
    }
   ],
   "source": [
    "# multiple aggreagation functions \n",
    "result = df.group_by(\n",
    "    (pl.col(\"birthdate\").dt.year()//10*10).alias(\"decade\"),\n",
    "    (pl.col(\"height\") < 1.7).alias(\"isShort\"),\n",
    ").agg(\n",
    "    pl.len(),\n",
    "    pl.col(\"height\").max().alias(\"tallest\"),\n",
    "    pl.col(\"weight\",\"height\").mean().name.prefix(\"avg_\"),\n",
    "    # above line is equivalent to : \n",
    "    # pl.col(\"weight\").mean().alias(\"avg_weight\"),\n",
    "    # pl.col(\"height\").mean().alias(\"avg_height\"),\n",
    "]\n",
    "    \n",
    ")\n",
    "print(result)\n",
    "\n",
    "# There is also group_by_dynamic and rolling for goruping contexts\n"
   ]
  },
  {
   "cell_type": "markdown",
   "id": "72e7b478-3d98-4717-9f90-d338ac17d127",
   "metadata": {},
   "source": [
    "### Expression Expansion\n",
    "Expression expansion is like a shorthand notation for when you want to apply the same transformation to multiple columns"
   ]
  },
  {
   "cell_type": "code",
   "execution_count": 47,
   "id": "a473f71c-bb58-4bb8-b1ba-171a604c3e45",
   "metadata": {},
   "outputs": [
    {
     "name": "stdout",
     "output_type": "stream",
     "text": [
      "shape: (4, 2)\n",
      "┌─────────────┬─────────────┐\n",
      "│ weight*1..1 ┆ height*1..1 │\n",
      "│ ---         ┆ ---         │\n",
      "│ f64         ┆ f64         │\n",
      "╞═════════════╪═════════════╡\n",
      "│ 63.69       ┆ 1.716       │\n",
      "│ 79.75       ┆ 1.947       │\n",
      "│ 58.96       ┆ 1.815       │\n",
      "│ 91.41       ┆ 1.925       │\n",
      "└─────────────┴─────────────┘\n",
      "shape: (0, 0)\n",
      "┌┐\n",
      "╞╡\n",
      "└┘\n"
     ]
    }
   ],
   "source": [
    " # pl.col(\"weight\",\"height\").mean().name.prefix(\"avg_\"),\n",
    "    # above line is equivalent to : \n",
    "    # pl.col(\"weight\").mean().alias(\"avg_weight\"),\n",
    "    # pl.col(\"height\").mean().alias(\"avg_height\"),\n",
    "\n",
    "\n",
    "# This will expand 2 cols\n",
    "expr = (pl.col(pl.Float64) * 1.1).name.suffix(\"*1..1\")\n",
    "result = df.select(expr)\n",
    "print(result)\n",
    "\n",
    "# thsi will expand 0 cols\n",
    "df2 = pl.DataFrame(\n",
    "    {\n",
    "        \"ints\": [1, 2, 3, 4],\n",
    "        \"letters\": [\"A\", \"B\", \"C\", \"D\"],\n",
    "    }\n",
    ")\n",
    "result = df2.select(expr)\n",
    "print(result)"
   ]
  },
  {
   "cell_type": "markdown",
   "id": "06e09b60-eb66-492a-aa98-b442b7d297bb",
   "metadata": {},
   "source": [
    "### Conclusion : \n",
    "Because expressions are lazy, when you use an expression inside a context Polars can try to simplify your expression before running the data transformation it expresses. "
   ]
  }
 ],
 "metadata": {
  "kernelspec": {
   "display_name": "Python 3 (ipykernel)",
   "language": "python",
   "name": "python3"
  },
  "language_info": {
   "codemirror_mode": {
    "name": "ipython",
    "version": 3
   },
   "file_extension": ".py",
   "mimetype": "text/x-python",
   "name": "python",
   "nbconvert_exporter": "python",
   "pygments_lexer": "ipython3",
   "version": "3.13.1"
  }
 },
 "nbformat": 4,
 "nbformat_minor": 5
}

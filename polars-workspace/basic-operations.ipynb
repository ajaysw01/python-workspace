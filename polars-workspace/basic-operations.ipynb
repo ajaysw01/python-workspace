{
 "cells": [
  {
   "cell_type": "markdown",
   "metadata": {},
   "source": [
    "### Basic operations\n",
    "arithmetic, comparisons, general purpose"
   ]
  },
  {
   "cell_type": "code",
   "execution_count": 2,
   "metadata": {},
   "outputs": [
    {
     "name": "stdout",
     "output_type": "stream",
     "text": [
      "shape: (5, 4)\n",
      "┌──────┬───────┬──────────┬────────┐\n",
      "│ nrs  ┆ names ┆ random   ┆ groups │\n",
      "│ ---  ┆ ---   ┆ ---      ┆ ---    │\n",
      "│ i64  ┆ str   ┆ f64      ┆ str    │\n",
      "╞══════╪═══════╪══════════╪════════╡\n",
      "│ 1    ┆ foo   ┆ 0.37454  ┆ A      │\n",
      "│ 2    ┆ ham   ┆ 0.950714 ┆ A      │\n",
      "│ 3    ┆ spam  ┆ 0.731994 ┆ B      │\n",
      "│ null ┆ egg   ┆ 0.598658 ┆ A      │\n",
      "│ 5    ┆ spam  ┆ 0.156019 ┆ B      │\n",
      "└──────┴───────┴──────────┴────────┘\n"
     ]
    }
   ],
   "source": [
    "import polars as pl \n",
    "import numpy as np \n",
    "\n",
    "np.random.seed(42)\n",
    "df = pl.DataFrame(\n",
    "    {\n",
    "        \"nrs\": [1, 2, 3, None, 5],\n",
    "        \"names\": [\"foo\", \"ham\", \"spam\", \"egg\", \"spam\"],\n",
    "        \"random\": np.random.rand(5),\n",
    "        \"groups\": [\"A\", \"A\", \"B\", \"A\", \"B\"],\n",
    "    }\n",
    ")\n",
    "print(df)"
   ]
  },
  {
   "cell_type": "markdown",
   "metadata": {},
   "source": [
    "### Basic arithmetic\n"
   ]
  },
  {
   "cell_type": "code",
   "execution_count": 3,
   "metadata": {},
   "outputs": [
    {
     "name": "stdout",
     "output_type": "stream",
     "text": [
      "shape: (5, 6)\n",
      "┌───────┬───────┬────────────┬────────────┬──────────┬─────────┐\n",
      "│ nrs+5 ┆ nrs-5 ┆ nrs*random ┆ nrs/random ┆ nrs ** 2 ┆ nrs % 3 │\n",
      "│ ---   ┆ ---   ┆ ---        ┆ ---        ┆ ---      ┆ ---     │\n",
      "│ i64   ┆ i64   ┆ f64        ┆ f64        ┆ i64      ┆ i64     │\n",
      "╞═══════╪═══════╪════════════╪════════════╪══════════╪═════════╡\n",
      "│ 6     ┆ -4    ┆ 0.37454    ┆ 2.669941   ┆ 1        ┆ 1       │\n",
      "│ 7     ┆ -3    ┆ 1.901429   ┆ 2.103681   ┆ 4        ┆ 2       │\n",
      "│ 8     ┆ -2    ┆ 2.195982   ┆ 4.098395   ┆ 9        ┆ 0       │\n",
      "│ null  ┆ null  ┆ null       ┆ null       ┆ null     ┆ null    │\n",
      "│ 10    ┆ 0     ┆ 0.780093   ┆ 32.047453  ┆ 25       ┆ 2       │\n",
      "└───────┴───────┴────────────┴────────────┴──────────┴─────────┘\n"
     ]
    }
   ],
   "source": [
    "result = df.select(\n",
    "    (pl.col(\"nrs\")+5).alias(\"nrs+5\"),\n",
    "    (pl.col(\"nrs\")-5).alias(\"nrs-5\"),\n",
    "    (pl.col(\"nrs\")*pl.col(\"random\")).alias(\"nrs*random\"),\n",
    "    (pl.col(\"nrs\")/pl.col(\"random\")).alias(\"nrs/random\"),\n",
    "    (pl.col(\"nrs\") ** 2).alias(\"nrs ** 2\"),\n",
    "    (pl.col(\"nrs\") % 3).alias(\"nrs % 3\"),\n",
    ")\n",
    "print(result)"
   ]
  },
  {
   "cell_type": "code",
   "execution_count": 4,
   "metadata": {},
   "outputs": [
    {
     "name": "stdout",
     "output_type": "stream",
     "text": [
      "shape: (5, 6)\n",
      "┌─────────┬─────────┬──────────────┬──────────────┬──────────┬─────────┐\n",
      "│ nrs + 5 ┆ nrs - 5 ┆ nrs * random ┆ nrs / random ┆ nrs ** 2 ┆ nrs % 3 │\n",
      "│ ---     ┆ ---     ┆ ---          ┆ ---          ┆ ---      ┆ ---     │\n",
      "│ i64     ┆ i64     ┆ f64          ┆ f64          ┆ i64      ┆ i64     │\n",
      "╞═════════╪═════════╪══════════════╪══════════════╪══════════╪═════════╡\n",
      "│ 6       ┆ -4      ┆ 0.37454      ┆ 2.669941     ┆ 1        ┆ 1       │\n",
      "│ 7       ┆ -3      ┆ 1.901429     ┆ 2.103681     ┆ 4        ┆ 2       │\n",
      "│ 8       ┆ -2      ┆ 2.195982     ┆ 4.098395     ┆ 9        ┆ 0       │\n",
      "│ null    ┆ null    ┆ null         ┆ null         ┆ null     ┆ null    │\n",
      "│ 10      ┆ 0       ┆ 0.780093     ┆ 32.047453    ┆ 25       ┆ 2       │\n",
      "└─────────┴─────────┴──────────────┴──────────────┴──────────┴─────────┘\n"
     ]
    }
   ],
   "source": [
    "# We canuse pure python to achieve above operation\n",
    "result_named_operators = df.select(\n",
    "    (pl.col(\"nrs\").add(5)).alias(\"nrs + 5\"),\n",
    "    (pl.col(\"nrs\").sub(5)).alias(\"nrs - 5\"),\n",
    "    (pl.col(\"nrs\").mul(pl.col(\"random\"))).alias(\"nrs * random\"),\n",
    "    (pl.col(\"nrs\").truediv(pl.col(\"random\"))).alias(\"nrs / random\"),\n",
    "    (pl.col(\"nrs\").pow(2)).alias(\"nrs ** 2\"),\n",
    "    (pl.col(\"nrs\").mod(3)).alias(\"nrs % 3\"),\n",
    ")\n",
    "print(result_named_operators)"
   ]
  },
  {
   "cell_type": "markdown",
   "metadata": {},
   "source": [
    "### Comparisons\n",
    "we can do both named functions and overloaded operators as well"
   ]
  },
  {
   "cell_type": "code",
   "execution_count": 5,
   "metadata": {},
   "outputs": [
    {
     "name": "stdout",
     "output_type": "stream",
     "text": [
      "shape: (5, 6)\n",
      "┌─────────┬──────────┬─────────────┬──────────────┬──────────┬──────────┐\n",
      "│ nrs > 1 ┆ nrs >= 3 ┆ random < .2 ┆ random <= .5 ┆ nrs != 1 ┆ nrs == 1 │\n",
      "│ ---     ┆ ---      ┆ ---         ┆ ---          ┆ ---      ┆ ---      │\n",
      "│ bool    ┆ bool     ┆ bool        ┆ bool         ┆ bool     ┆ bool     │\n",
      "╞═════════╪══════════╪═════════════╪══════════════╪══════════╪══════════╡\n",
      "│ false   ┆ false    ┆ false       ┆ true         ┆ false    ┆ true     │\n",
      "│ true    ┆ false    ┆ false       ┆ false        ┆ true     ┆ false    │\n",
      "│ true    ┆ true     ┆ false       ┆ false        ┆ true     ┆ false    │\n",
      "│ null    ┆ null     ┆ false       ┆ false        ┆ null     ┆ null     │\n",
      "│ true    ┆ true     ┆ true        ┆ true         ┆ true     ┆ false    │\n",
      "└─────────┴──────────┴─────────────┴──────────────┴──────────┴──────────┘\n"
     ]
    }
   ],
   "source": [
    "result = df.select(\n",
    "    (pl.col(\"nrs\") > 1).alias(\"nrs > 1\"),  # .gt\n",
    "    (pl.col(\"nrs\") >= 3).alias(\"nrs >= 3\"),  # ge\n",
    "    (pl.col(\"random\") < 0.2).alias(\"random < .2\"),  # .lt\n",
    "    (pl.col(\"random\") <= 0.5).alias(\"random <= .5\"),  # .le\n",
    "    (pl.col(\"nrs\") != 1).alias(\"nrs != 1\"),  # .ne\n",
    "    (pl.col(\"nrs\") == 1).alias(\"nrs == 1\"),  # .eq\n",
    ")\n",
    "print(result)"
   ]
  },
  {
   "cell_type": "markdown",
   "metadata": {},
   "source": [
    "### Boolean and bitwise operations\n"
   ]
  },
  {
   "cell_type": "code",
   "execution_count": 10,
   "metadata": {},
   "outputs": [
    {
     "name": "stdout",
     "output_type": "stream",
     "text": [
      "shape: (5, 2)\n",
      "┌─────────────────────────────┬─────────────────────────┐\n",
      "│ number not null and group A ┆ random < 0.5 or group B │\n",
      "│ ---                         ┆ ---                     │\n",
      "│ bool                        ┆ bool                    │\n",
      "╞═════════════════════════════╪═════════════════════════╡\n",
      "│ true                        ┆ true                    │\n",
      "│ true                        ┆ false                   │\n",
      "│ false                       ┆ true                    │\n",
      "│ false                       ┆ false                   │\n",
      "│ false                       ┆ true                    │\n",
      "└─────────────────────────────┴─────────────────────────┘\n",
      "True\n"
     ]
    }
   ],
   "source": [
    "# Boolean operators & | ~\n",
    "result = df.select(\n",
    "    ((~pl.col(\"nrs\").is_null()) & (pl.col(\"groups\") == \"A\")).alias(\n",
    "        \"number not null and group A\"\n",
    "    ),\n",
    "    ((pl.col(\"random\") < 0.5) | (pl.col(\"groups\") == \"B\")).alias(\n",
    "        \"random < 0.5 or group B\"\n",
    "    ),\n",
    ")\n",
    "\n",
    "print(result)\n",
    "\n",
    "# Corresponding named functions `and_`, `or_`, and `not_`.\n",
    "result2 = df.select(\n",
    "    (pl.col(\"nrs\").is_null().not_().and_(pl.col(\"groups\") == \"A\")).alias(\n",
    "        \"number not null and group A\"\n",
    "    ),\n",
    "    ((pl.col(\"random\") < 0.5).or_(pl.col(\"groups\") == \"B\")).alias(\n",
    "        \"random < 0.5 or group B\"\n",
    "    ),\n",
    ")\n",
    "print(result.equals(result2))"
   ]
  },
  {
   "cell_type": "code",
   "execution_count": 11,
   "metadata": {},
   "outputs": [
    {
     "name": "stdout",
     "output_type": "stream",
     "text": [
      "shape: (5, 5)\n",
      "┌──────┬─────────┬─────────┬─────────┬─────────┐\n",
      "│ nrs  ┆ nrs & 6 ┆ nrs | 6 ┆ not nrs ┆ nrs ^ 6 │\n",
      "│ ---  ┆ ---     ┆ ---     ┆ ---     ┆ ---     │\n",
      "│ i64  ┆ i64     ┆ i64     ┆ i64     ┆ i64     │\n",
      "╞══════╪═════════╪═════════╪═════════╪═════════╡\n",
      "│ 1    ┆ 0       ┆ 7       ┆ -2      ┆ 7       │\n",
      "│ 2    ┆ 2       ┆ 6       ┆ -3      ┆ 4       │\n",
      "│ 3    ┆ 2       ┆ 7       ┆ -4      ┆ 5       │\n",
      "│ null ┆ null    ┆ null    ┆ null    ┆ null    │\n",
      "│ 5    ┆ 4       ┆ 7       ┆ -6      ┆ 3       │\n",
      "└──────┴─────────┴─────────┴─────────┴─────────┘\n"
     ]
    }
   ],
   "source": [
    "result = df.select(\n",
    "    pl.col(\"nrs\"),\n",
    "    (pl.col(\"nrs\") & 6).alias(\"nrs & 6\"),\n",
    "    (pl.col(\"nrs\") | 6).alias(\"nrs | 6\"),\n",
    "    (~pl.col(\"nrs\")).alias(\"not nrs\"),\n",
    "    (pl.col(\"nrs\") ^ 6).alias(\"nrs ^ 6\"),\n",
    ")\n",
    "\n",
    "print(result)"
   ]
  },
  {
   "cell_type": "markdown",
   "metadata": {},
   "source": [
    "### Counting unique values\n",
    "n_unique : counts exact no of unique values and slow for large data sets. \n",
    "approx_n_unique : For large datasets, gives approximation uses HyperLogLog++ algo\n",
    "value_counts : more info about the unique values and their counts\n",
    "\n"
   ]
  },
  {
   "cell_type": "code",
   "execution_count": 16,
   "metadata": {},
   "outputs": [
    {
     "name": "stdout",
     "output_type": "stream",
     "text": [
      "shape: (63_152, 3)\n",
      "┌──────────┬─────────────────┬──────────────┐\n",
      "│ n_unique ┆ approx_n_unique ┆ value counts │\n",
      "│ ---      ┆ ---             ┆ ---          │\n",
      "│ u32      ┆ u32             ┆ struct[2]    │\n",
      "╞══════════╪═════════════════╪══════════════╡\n",
      "│ 63152    ┆ 63721           ┆ {31517,2}    │\n",
      "│ 63152    ┆ 63721           ┆ {90703,4}    │\n",
      "│ 63152    ┆ 63721           ┆ {51102,1}    │\n",
      "│ 63152    ┆ 63721           ┆ {9860,1}     │\n",
      "│ 63152    ┆ 63721           ┆ {60129,1}    │\n",
      "│ …        ┆ …               ┆ …            │\n",
      "│ 63152    ┆ 63721           ┆ {96000,4}    │\n",
      "│ 63152    ┆ 63721           ┆ {17546,2}    │\n",
      "│ 63152    ┆ 63721           ┆ {79785,4}    │\n",
      "│ 63152    ┆ 63721           ┆ {95857,1}    │\n",
      "│ 63152    ┆ 63721           ┆ {84842,1}    │\n",
      "└──────────┴─────────────────┴──────────────┘\n"
     ]
    }
   ],
   "source": [
    "long_df = pl.DataFrame({\"numbers\": np.random.randint(0,100_000,100_000)})\n",
    "result = long_df.select(\n",
    "    pl.col(\"numbers\").n_unique().alias(\"n_unique\"),\n",
    "    pl.col(\"numbers\").approx_n_unique().alias(\"approx_n_unique\"),\n",
    "    pl.col(\"numbers\").value_counts().alias(\"value counts\") #returns a structs\n",
    ")\n",
    "print(result)"
   ]
  },
  {
   "cell_type": "markdown",
   "metadata": {},
   "source": [
    "### need a series with unique value or series with unique counts\n"
   ]
  },
  {
   "cell_type": "code",
   "execution_count": 17,
   "metadata": {},
   "outputs": [
    {
     "name": "stdout",
     "output_type": "stream",
     "text": [
      "shape: (4, 2)\n",
      "┌────────┬───────────────┐\n",
      "│ unique ┆ unique_counts │\n",
      "│ ---    ┆ ---           │\n",
      "│ str    ┆ u32           │\n",
      "╞════════╪═══════════════╡\n",
      "│ foo    ┆ 1             │\n",
      "│ ham    ┆ 1             │\n",
      "│ spam   ┆ 2             │\n",
      "│ egg    ┆ 1             │\n",
      "└────────┴───────────────┘\n"
     ]
    }
   ],
   "source": [
    "result = df.select(\n",
    "    pl.col(\"names\").unique(maintain_order=True).alias(\"unique\"),\n",
    "    pl.col(\"names\").unique_counts().alias(\"unique_counts\"),\n",
    ")\n",
    "\n",
    "print(result)"
   ]
  },
  {
   "cell_type": "markdown",
   "metadata": {},
   "source": [
    "### conditionals \n",
    "ternery operator : when, then , otherwise(optional)"
   ]
  },
  {
   "cell_type": "code",
   "execution_count": 18,
   "metadata": {},
   "outputs": [
    {
     "name": "stdout",
     "output_type": "stream",
     "text": [
      "shape: (5, 2)\n",
      "┌──────┬─────────┐\n",
      "│ nrs  ┆ Collatz │\n",
      "│ ---  ┆ ---     │\n",
      "│ i64  ┆ i64     │\n",
      "╞══════╪═════════╡\n",
      "│ 1    ┆ 4       │\n",
      "│ 2    ┆ 1       │\n",
      "│ 3    ┆ 10      │\n",
      "│ null ┆ null    │\n",
      "│ 5    ┆ 16      │\n",
      "└──────┴─────────┘\n"
     ]
    }
   ],
   "source": [
    "result = df.select(\n",
    "    pl.col(\"nrs\"),\n",
    "    pl.when(pl.col(\"nrs\")%2 ==1)\n",
    "    .then(3 * pl.col(\"nrs\")+1)\n",
    "    .otherwise(pl.col(\"nrs\")//2)\n",
    "    .alias(\"Collatz\"),\n",
    ")\n",
    "print(result)"
   ]
  }
 ],
 "metadata": {
  "kernelspec": {
   "display_name": "Python 3",
   "language": "python",
   "name": "python3"
  },
  "language_info": {
   "codemirror_mode": {
    "name": "ipython",
    "version": 3
   },
   "file_extension": ".py",
   "mimetype": "text/x-python",
   "name": "python",
   "nbconvert_exporter": "python",
   "pygments_lexer": "ipython3",
   "version": "3.13.1"
  }
 },
 "nbformat": 4,
 "nbformat_minor": 2
}
